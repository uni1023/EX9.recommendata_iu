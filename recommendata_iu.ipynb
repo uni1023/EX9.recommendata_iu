{
 "cells": [
  {
   "cell_type": "markdown",
   "id": "eleven-glucose",
   "metadata": {},
   "source": [
    "# Movielens 영화 추천🎬\n",
    "\n",
    "### 프로젝트 목표\n",
    "\n",
    "- 추천시스템의 개념과 목적을 이해한다.\n",
    "- Implicit 라이브러리를 활용하여 Matrix Factorization(이하 MF) 기반의 추천 모델을 만들어 본다.\n",
    "- 영화 시청 기록을 활용하여 비슷한 영화를 찾고 사용자에 따른 영화를 추천해 본다.\n",
    "- 추천 시스템에서 자주 사용되는 데이터 구조인 CSR Matrix을 익힌다\n",
    "- 유저의 행위 데이터 중 Explicit data와 Implicit data의 차이점을 익힌다.\n",
    "\n",
    "https://github.com/p2yeong/AIFFEL-Study/blob/master/exploration/E9_recommend_movies.ipynb\n",
    "\n",
    "박은영님 내용 참고"
   ]
  },
  {
   "cell_type": "code",
   "execution_count": 2,
   "id": "authentic-courage",
   "metadata": {},
   "outputs": [],
   "source": [
    "import os\n",
    "import pandas as pd\n",
    "import numpy as np\n",
    "\n",
    "from scipy.sparse import csr_matrix\n",
    "from implicit.als import AlternatingLeastSquares"
   ]
  },
  {
   "cell_type": "markdown",
   "id": "convertible-cornell",
   "metadata": {},
   "source": [
    "## 1. 데이터 준비와 전처리\n",
    "\n",
    "사용할 데이터셋은 Movielens 데이터이다.\n",
    "\n",
    "- 유저가 영화에 대해 평점을 매긴 데이터가 데이터 크기 별로 존재한다\n",
    "- 별점 데이터는 대표적인 explicit 데이터이나, implicit 데이터로 간주하고 테스트한다.\n",
    "- 별점을 시청횟수로 해석해서 생각한다.\n",
    "- 또한 유저가 3점 미만으로 준 데이터는 선호하지 않는다고 가정하고 제외한다."
   ]
  },
  {
   "cell_type": "code",
   "execution_count": 3,
   "id": "breeding-franklin",
   "metadata": {
    "scrolled": true
   },
   "outputs": [
    {
     "data": {
      "text/html": [
       "<div>\n",
       "<style scoped>\n",
       "    .dataframe tbody tr th:only-of-type {\n",
       "        vertical-align: middle;\n",
       "    }\n",
       "\n",
       "    .dataframe tbody tr th {\n",
       "        vertical-align: top;\n",
       "    }\n",
       "\n",
       "    .dataframe thead th {\n",
       "        text-align: right;\n",
       "    }\n",
       "</style>\n",
       "<table border=\"1\" class=\"dataframe\">\n",
       "  <thead>\n",
       "    <tr style=\"text-align: right;\">\n",
       "      <th></th>\n",
       "      <th>user_id</th>\n",
       "      <th>movie_id</th>\n",
       "      <th>rating</th>\n",
       "      <th>timestamp</th>\n",
       "    </tr>\n",
       "  </thead>\n",
       "  <tbody>\n",
       "    <tr>\n",
       "      <th>0</th>\n",
       "      <td>1</td>\n",
       "      <td>1193</td>\n",
       "      <td>5</td>\n",
       "      <td>978300760</td>\n",
       "    </tr>\n",
       "    <tr>\n",
       "      <th>1</th>\n",
       "      <td>1</td>\n",
       "      <td>661</td>\n",
       "      <td>3</td>\n",
       "      <td>978302109</td>\n",
       "    </tr>\n",
       "    <tr>\n",
       "      <th>2</th>\n",
       "      <td>1</td>\n",
       "      <td>914</td>\n",
       "      <td>3</td>\n",
       "      <td>978301968</td>\n",
       "    </tr>\n",
       "    <tr>\n",
       "      <th>3</th>\n",
       "      <td>1</td>\n",
       "      <td>3408</td>\n",
       "      <td>4</td>\n",
       "      <td>978300275</td>\n",
       "    </tr>\n",
       "    <tr>\n",
       "      <th>4</th>\n",
       "      <td>1</td>\n",
       "      <td>2355</td>\n",
       "      <td>5</td>\n",
       "      <td>978824291</td>\n",
       "    </tr>\n",
       "  </tbody>\n",
       "</table>\n",
       "</div>"
      ],
      "text/plain": [
       "   user_id  movie_id  rating  timestamp\n",
       "0        1      1193       5  978300760\n",
       "1        1       661       3  978302109\n",
       "2        1       914       3  978301968\n",
       "3        1      3408       4  978300275\n",
       "4        1      2355       5  978824291"
      ]
     },
     "execution_count": 3,
     "metadata": {},
     "output_type": "execute_result"
    }
   ],
   "source": [
    "rating_file_path=os.getenv('HOME') + '/aiffel/recommendata_iu/data/ml-1m/ratings.dat'\n",
    "ratings_cols = ['user_id', 'movie_id', 'rating', 'timestamp']\n",
    "ratings = pd.read_csv(rating_file_path, sep='::', names=ratings_cols, engine='python', encoding = \"ISO-8859-1\")\n",
    "orginal_data_size = len(ratings)\n",
    "ratings.head()"
   ]
  },
  {
   "cell_type": "code",
   "execution_count": 4,
   "id": "developmental-authentication",
   "metadata": {},
   "outputs": [
    {
     "name": "stdout",
     "output_type": "stream",
     "text": [
      "orginal_data_size: 1000209, filtered_data_size: 836478\n",
      "Ratio of Remaining Data is 83.63%\n"
     ]
    }
   ],
   "source": [
    "# 3점 이상만 남깁니다.\n",
    "ratings = ratings[ratings['rating']>=3]\n",
    "filtered_data_size = len(ratings)\n",
    "\n",
    "print(f'orginal_data_size: {orginal_data_size}, filtered_data_size: {filtered_data_size}')\n",
    "print(f'Ratio of Remaining Data is {filtered_data_size / orginal_data_size:.2%}')"
   ]
  },
  {
   "cell_type": "code",
   "execution_count": 5,
   "id": "higher-terrace",
   "metadata": {},
   "outputs": [
    {
     "data": {
      "text/plain": [
       "0          5\n",
       "1          3\n",
       "2          3\n",
       "3          4\n",
       "4          5\n",
       "          ..\n",
       "1000203    3\n",
       "1000205    5\n",
       "1000206    5\n",
       "1000207    4\n",
       "1000208    4\n",
       "Name: count, Length: 836478, dtype: int64"
      ]
     },
     "execution_count": 5,
     "metadata": {},
     "output_type": "execute_result"
    }
   ],
   "source": [
    "# rating 컬럼의 이름을 count로 바꿉니다.\n",
    "ratings.rename(columns={'rating':'count'}, inplace=True)\n",
    "ratings['count']"
   ]
  },
  {
   "cell_type": "code",
   "execution_count": 6,
   "id": "prostate-woman",
   "metadata": {},
   "outputs": [
    {
     "data": {
      "text/html": [
       "<div>\n",
       "<style scoped>\n",
       "    .dataframe tbody tr th:only-of-type {\n",
       "        vertical-align: middle;\n",
       "    }\n",
       "\n",
       "    .dataframe tbody tr th {\n",
       "        vertical-align: top;\n",
       "    }\n",
       "\n",
       "    .dataframe thead th {\n",
       "        text-align: right;\n",
       "    }\n",
       "</style>\n",
       "<table border=\"1\" class=\"dataframe\">\n",
       "  <thead>\n",
       "    <tr style=\"text-align: right;\">\n",
       "      <th></th>\n",
       "      <th>movie_id</th>\n",
       "      <th>title</th>\n",
       "      <th>genre</th>\n",
       "    </tr>\n",
       "  </thead>\n",
       "  <tbody>\n",
       "    <tr>\n",
       "      <th>0</th>\n",
       "      <td>1</td>\n",
       "      <td>Toy Story (1995)</td>\n",
       "      <td>Animation|Children's|Comedy</td>\n",
       "    </tr>\n",
       "    <tr>\n",
       "      <th>1</th>\n",
       "      <td>2</td>\n",
       "      <td>Jumanji (1995)</td>\n",
       "      <td>Adventure|Children's|Fantasy</td>\n",
       "    </tr>\n",
       "    <tr>\n",
       "      <th>2</th>\n",
       "      <td>3</td>\n",
       "      <td>Grumpier Old Men (1995)</td>\n",
       "      <td>Comedy|Romance</td>\n",
       "    </tr>\n",
       "    <tr>\n",
       "      <th>3</th>\n",
       "      <td>4</td>\n",
       "      <td>Waiting to Exhale (1995)</td>\n",
       "      <td>Comedy|Drama</td>\n",
       "    </tr>\n",
       "    <tr>\n",
       "      <th>4</th>\n",
       "      <td>5</td>\n",
       "      <td>Father of the Bride Part II (1995)</td>\n",
       "      <td>Comedy</td>\n",
       "    </tr>\n",
       "  </tbody>\n",
       "</table>\n",
       "</div>"
      ],
      "text/plain": [
       "   movie_id                               title                         genre\n",
       "0         1                    Toy Story (1995)   Animation|Children's|Comedy\n",
       "1         2                      Jumanji (1995)  Adventure|Children's|Fantasy\n",
       "2         3             Grumpier Old Men (1995)                Comedy|Romance\n",
       "3         4            Waiting to Exhale (1995)                  Comedy|Drama\n",
       "4         5  Father of the Bride Part II (1995)                        Comedy"
      ]
     },
     "execution_count": 6,
     "metadata": {},
     "output_type": "execute_result"
    }
   ],
   "source": [
    "# 영화 제목을 보기 위해 메타 데이터를 읽어옵니다.\n",
    "movie_file_path=os.getenv('HOME') + '/aiffel/recommendata_iu/data/ml-1m/movies.dat'\n",
    "cols = ['movie_id', 'title', 'genre'] \n",
    "movies = pd.read_csv(movie_file_path, sep='::', names=cols, engine='python', encoding='ISO-8859-1')\n",
    "movies.head()"
   ]
  },
  {
   "cell_type": "code",
   "execution_count": 7,
   "id": "actual-magnet",
   "metadata": {},
   "outputs": [
    {
     "data": {
      "text/html": [
       "<div>\n",
       "<style scoped>\n",
       "    .dataframe tbody tr th:only-of-type {\n",
       "        vertical-align: middle;\n",
       "    }\n",
       "\n",
       "    .dataframe tbody tr th {\n",
       "        vertical-align: top;\n",
       "    }\n",
       "\n",
       "    .dataframe thead th {\n",
       "        text-align: right;\n",
       "    }\n",
       "</style>\n",
       "<table border=\"1\" class=\"dataframe\">\n",
       "  <thead>\n",
       "    <tr style=\"text-align: right;\">\n",
       "      <th></th>\n",
       "      <th>user_id</th>\n",
       "      <th>movie_id</th>\n",
       "      <th>count</th>\n",
       "      <th>timestamp</th>\n",
       "      <th>title</th>\n",
       "      <th>genre</th>\n",
       "    </tr>\n",
       "  </thead>\n",
       "  <tbody>\n",
       "    <tr>\n",
       "      <th>0</th>\n",
       "      <td>1</td>\n",
       "      <td>1193</td>\n",
       "      <td>5</td>\n",
       "      <td>978300760</td>\n",
       "      <td>One Flew Over the Cuckoo's Nest (1975)</td>\n",
       "      <td>Drama</td>\n",
       "    </tr>\n",
       "    <tr>\n",
       "      <th>1</th>\n",
       "      <td>1</td>\n",
       "      <td>661</td>\n",
       "      <td>3</td>\n",
       "      <td>978302109</td>\n",
       "      <td>James and the Giant Peach (1996)</td>\n",
       "      <td>Animation|Children's|Musical</td>\n",
       "    </tr>\n",
       "    <tr>\n",
       "      <th>2</th>\n",
       "      <td>1</td>\n",
       "      <td>914</td>\n",
       "      <td>3</td>\n",
       "      <td>978301968</td>\n",
       "      <td>My Fair Lady (1964)</td>\n",
       "      <td>Musical|Romance</td>\n",
       "    </tr>\n",
       "    <tr>\n",
       "      <th>3</th>\n",
       "      <td>1</td>\n",
       "      <td>3408</td>\n",
       "      <td>4</td>\n",
       "      <td>978300275</td>\n",
       "      <td>Erin Brockovich (2000)</td>\n",
       "      <td>Drama</td>\n",
       "    </tr>\n",
       "    <tr>\n",
       "      <th>4</th>\n",
       "      <td>1</td>\n",
       "      <td>2355</td>\n",
       "      <td>5</td>\n",
       "      <td>978824291</td>\n",
       "      <td>Bug's Life, A (1998)</td>\n",
       "      <td>Animation|Children's|Comedy</td>\n",
       "    </tr>\n",
       "  </tbody>\n",
       "</table>\n",
       "</div>"
      ],
      "text/plain": [
       "   user_id  movie_id  count  timestamp  \\\n",
       "0        1      1193      5  978300760   \n",
       "1        1       661      3  978302109   \n",
       "2        1       914      3  978301968   \n",
       "3        1      3408      4  978300275   \n",
       "4        1      2355      5  978824291   \n",
       "\n",
       "                                    title                         genre  \n",
       "0  One Flew Over the Cuckoo's Nest (1975)                         Drama  \n",
       "1        James and the Giant Peach (1996)  Animation|Children's|Musical  \n",
       "2                     My Fair Lady (1964)               Musical|Romance  \n",
       "3                  Erin Brockovich (2000)                         Drama  \n",
       "4                    Bug's Life, A (1998)   Animation|Children's|Comedy  "
      ]
     },
     "execution_count": 7,
     "metadata": {},
     "output_type": "execute_result"
    }
   ],
   "source": [
    "# ratings 와 movies 데이터 프레임 합치기\n",
    "data = ratings.join(movies.set_index('movie_id'), on='movie_id')\n",
    "data.head()"
   ]
  },
  {
   "cell_type": "code",
   "execution_count": 8,
   "id": "thousand-cabin",
   "metadata": {},
   "outputs": [
    {
     "data": {
      "text/plain": [
       "0                One Flew Over the Cuckoo's Nest (1975)\n",
       "1                      James and the Giant Peach (1996)\n",
       "2                                   My Fair Lady (1964)\n",
       "3                                Erin Brockovich (2000)\n",
       "4                                  Bug's Life, A (1998)\n",
       "5                            Princess Bride, The (1987)\n",
       "6                                        Ben-Hur (1959)\n",
       "7                             Christmas Story, A (1983)\n",
       "8                Snow White and the Seven Dwarfs (1937)\n",
       "9                              Wizard of Oz, The (1939)\n",
       "10                          Beauty and the Beast (1991)\n",
       "11                                          Gigi (1958)\n",
       "12                        Miracle on 34th Street (1947)\n",
       "13                      Ferris Bueller's Day Off (1986)\n",
       "14                           Sound of Music, The (1965)\n",
       "15                                     Airplane! (1980)\n",
       "16                                        Tarzan (1999)\n",
       "17                                         Bambi (1942)\n",
       "18                                    Awakenings (1990)\n",
       "19                                           Big (1988)\n",
       "20                                 Pleasantville (1998)\n",
       "21    Wallace & Gromit: The Best of Aardman Animatio...\n",
       "22                            Back to the Future (1985)\n",
       "23                              Schindler's List (1993)\n",
       "24                                Meet Joe Black (1998)\n",
       "25                                    Pocahontas (1995)\n",
       "26                    E.T. the Extra-Terrestrial (1982)\n",
       "27                                       Titanic (1997)\n",
       "28                                       Ponette (1996)\n",
       "29                                Close Shave, A (1995)\n",
       "30                                          Antz (1998)\n",
       "31                             Girl, Interrupted (1999)\n",
       "32                                      Hercules (1997)\n",
       "33                                       Aladdin (1992)\n",
       "34                                         Mulan (1998)\n",
       "35                  Hunchback of Notre Dame, The (1996)\n",
       "36                       Last Days of Disco, The (1998)\n",
       "37                                    Cinderella (1950)\n",
       "38                              Sixth Sense, The (1999)\n",
       "39                                     Apollo 13 (1995)\n",
       "40                                     Toy Story (1995)\n",
       "41                                      Rain Man (1988)\n",
       "42                            Driving Miss Daisy (1989)\n",
       "43                     Run Lola Run (Lola rennt) (1998)\n",
       "44            Star Wars: Episode IV - A New Hope (1977)\n",
       "45                                  Mary Poppins (1964)\n",
       "46                                         Dumbo (1941)\n",
       "47                         To Kill a Mockingbird (1962)\n",
       "48                           Saving Private Ryan (1998)\n",
       "49                            Secret Garden, The (1993)\n",
       "50                                   Toy Story 2 (1999)\n",
       "51                                         Fargo (1996)\n",
       "52                            Dead Poets Society (1989)\n",
       "Name: title, dtype: object"
      ]
     },
     "execution_count": 8,
     "metadata": {},
     "output_type": "execute_result"
    }
   ],
   "source": [
    "# user_id가 1인 사용자가 어떤 영화를 시청했는지 확인해봅니다.\n",
    "movie_id_user1 = data[data['user_id']== 1]['title']\n",
    "movie_id_user1"
   ]
  },
  {
   "cell_type": "markdown",
   "id": "saved-destiny",
   "metadata": {},
   "source": [
    "# 2.데이터 탐색하기\n",
    "\n",
    "- ratings에 있는 유니크한 영화 개수\n",
    "- rating에 있는 유니크한 사용자 수\n",
    "- 가장 인기 있는 영화 30개(인기순)"
   ]
  },
  {
   "cell_type": "code",
   "execution_count": 9,
   "id": "offshore-garbage",
   "metadata": {},
   "outputs": [
    {
     "name": "stdout",
     "output_type": "stream",
     "text": [
      "영화 개수:  3628\n"
     ]
    }
   ],
   "source": [
    "# 영화 개수\n",
    "print('영화 개수: ', data['movie_id'].nunique())"
   ]
  },
  {
   "cell_type": "code",
   "execution_count": 10,
   "id": "technical-plane",
   "metadata": {},
   "outputs": [
    {
     "name": "stdout",
     "output_type": "stream",
     "text": [
      "사용자 수:  6039\n"
     ]
    }
   ],
   "source": [
    "# 사용자 수\n",
    "print('사용자 수: ', data['user_id'].nunique())"
   ]
  },
  {
   "cell_type": "code",
   "execution_count": 11,
   "id": "wanted-malpractice",
   "metadata": {},
   "outputs": [
    {
     "name": "stdout",
     "output_type": "stream",
     "text": [
      "인기있는 영화 Top 30\n"
     ]
    },
    {
     "data": {
      "text/plain": [
       "title\n",
       "American Beauty (1999)                                   3211\n",
       "Star Wars: Episode IV - A New Hope (1977)                2910\n",
       "Star Wars: Episode V - The Empire Strikes Back (1980)    2885\n",
       "Star Wars: Episode VI - Return of the Jedi (1983)        2716\n",
       "Saving Private Ryan (1998)                               2561\n",
       "Terminator 2: Judgment Day (1991)                        2509\n",
       "Silence of the Lambs, The (1991)                         2498\n",
       "Raiders of the Lost Ark (1981)                           2473\n",
       "Back to the Future (1985)                                2460\n",
       "Matrix, The (1999)                                       2434\n",
       "Jurassic Park (1993)                                     2413\n",
       "Sixth Sense, The (1999)                                  2385\n",
       "Fargo (1996)                                             2371\n",
       "Braveheart (1995)                                        2314\n",
       "Men in Black (1997)                                      2297\n",
       "Schindler's List (1993)                                  2257\n",
       "Princess Bride, The (1987)                               2252\n",
       "Shakespeare in Love (1998)                               2213\n",
       "L.A. Confidential (1997)                                 2210\n",
       "Shawshank Redemption, The (1994)                         2194\n",
       "Godfather, The (1972)                                    2167\n",
       "Groundhog Day (1993)                                     2121\n",
       "E.T. the Extra-Terrestrial (1982)                        2102\n",
       "Being John Malkovich (1999)                              2066\n",
       "Ghostbusters (1984)                                      2051\n",
       "Pulp Fiction (1994)                                      2030\n",
       "Forrest Gump (1994)                                      2022\n",
       "Terminator, The (1984)                                   2019\n",
       "Toy Story (1995)                                         2000\n",
       "Fugitive, The (1993)                                     1941\n",
       "Name: user_id, dtype: int64"
      ]
     },
     "execution_count": 11,
     "metadata": {},
     "output_type": "execute_result"
    }
   ],
   "source": [
    "# 인기있는 영화 Top 30\n",
    "print('인기있는 영화 Top 30')\n",
    "movie_count = data.groupby('title')['user_id'].count()\n",
    "movie_count.sort_values(ascending=False).head(30)"
   ]
  },
  {
   "cell_type": "code",
   "execution_count": 12,
   "id": "moved-screen",
   "metadata": {},
   "outputs": [
    {
     "data": {
      "text/plain": [
       "count    6039.000000\n",
       "mean      138.512668\n",
       "std       156.241599\n",
       "min         1.000000\n",
       "25%        38.000000\n",
       "50%        81.000000\n",
       "75%       177.000000\n",
       "max      1968.000000\n",
       "Name: movie_id, dtype: float64"
      ]
     },
     "execution_count": 12,
     "metadata": {},
     "output_type": "execute_result"
    }
   ],
   "source": [
    "# 유저별 몇 편의 영화를 시청했는지에 대한 통계\n",
    "user_count = data.groupby('user_id')['movie_id'].count()\n",
    "user_count.describe()"
   ]
  },
  {
   "cell_type": "code",
   "execution_count": 13,
   "id": "creative-karma",
   "metadata": {},
   "outputs": [
    {
     "data": {
      "text/plain": [
       "count    6039.000000\n",
       "mean        4.055970\n",
       "std         0.432143\n",
       "min         3.000000\n",
       "25%         4.000000\n",
       "50%         4.000000\n",
       "75%         4.000000\n",
       "max         5.000000\n",
       "Name: count, dtype: float64"
      ]
     },
     "execution_count": 13,
     "metadata": {},
     "output_type": "execute_result"
    }
   ],
   "source": [
    "# 영화 별 시청(count)횟수 중앙값에 대한 통계\n",
    "user_median = data.groupby('user_id')['count'].median()\n",
    "user_median.describe()"
   ]
  },
  {
   "cell_type": "markdown",
   "id": "fourth-interpretation",
   "metadata": {},
   "source": [
    "# 3.모델 검증을 위한 사용자 초기 정보 세팅\n",
    "\n",
    "내가 선호하는 영화를 5가지 골라서 rating에 추가해준다. 예측값 해석을 용이하게 하기 위해 애니메이션 장르의 영화 5개를 초기 정보값으로 입력해 주었다."
   ]
  },
  {
   "cell_type": "code",
   "execution_count": 14,
   "id": "rocky-percentage",
   "metadata": {},
   "outputs": [
    {
     "data": {
      "text/html": [
       "<div>\n",
       "<style scoped>\n",
       "    .dataframe tbody tr th:only-of-type {\n",
       "        vertical-align: middle;\n",
       "    }\n",
       "\n",
       "    .dataframe tbody tr th {\n",
       "        vertical-align: top;\n",
       "    }\n",
       "\n",
       "    .dataframe thead th {\n",
       "        text-align: right;\n",
       "    }\n",
       "</style>\n",
       "<table border=\"1\" class=\"dataframe\">\n",
       "  <thead>\n",
       "    <tr style=\"text-align: right;\">\n",
       "      <th></th>\n",
       "      <th>movie_id</th>\n",
       "      <th>title</th>\n",
       "      <th>genre</th>\n",
       "    </tr>\n",
       "  </thead>\n",
       "  <tbody>\n",
       "    <tr>\n",
       "      <th>1166</th>\n",
       "      <td>1183</td>\n",
       "      <td>English Patient, The (1996)</td>\n",
       "      <td>Drama|Romance|War</td>\n",
       "    </tr>\n",
       "    <tr>\n",
       "      <th>1484</th>\n",
       "      <td>1519</td>\n",
       "      <td>Broken English (1996)</td>\n",
       "      <td>Drama</td>\n",
       "    </tr>\n",
       "  </tbody>\n",
       "</table>\n",
       "</div>"
      ],
      "text/plain": [
       "      movie_id                        title              genre\n",
       "1166      1183  English Patient, The (1996)  Drama|Romance|War\n",
       "1484      1519        Broken English (1996)              Drama"
      ]
     },
     "execution_count": 14,
     "metadata": {},
     "output_type": "execute_result"
    }
   ],
   "source": [
    "# 영화 제목 키워드로 검색\n",
    "movies[movies['title'].str.lower().str.contains('english ', regex=False)]"
   ]
  },
  {
   "cell_type": "code",
   "execution_count": 15,
   "id": "nearby-caribbean",
   "metadata": {},
   "outputs": [
    {
     "data": {
      "text/html": [
       "<div>\n",
       "<style scoped>\n",
       "    .dataframe tbody tr th:only-of-type {\n",
       "        vertical-align: middle;\n",
       "    }\n",
       "\n",
       "    .dataframe tbody tr th {\n",
       "        vertical-align: top;\n",
       "    }\n",
       "\n",
       "    .dataframe thead th {\n",
       "        text-align: right;\n",
       "    }\n",
       "</style>\n",
       "<table border=\"1\" class=\"dataframe\">\n",
       "  <thead>\n",
       "    <tr style=\"text-align: right;\">\n",
       "      <th></th>\n",
       "      <th>user_id</th>\n",
       "      <th>movie_id</th>\n",
       "      <th>title</th>\n",
       "      <th>count</th>\n",
       "    </tr>\n",
       "  </thead>\n",
       "  <tbody>\n",
       "    <tr>\n",
       "      <th>0</th>\n",
       "      <td>6041</td>\n",
       "      <td>1</td>\n",
       "      <td>Toy Story (1995)</td>\n",
       "      <td>5</td>\n",
       "    </tr>\n",
       "    <tr>\n",
       "      <th>1</th>\n",
       "      <td>6041</td>\n",
       "      <td>2294</td>\n",
       "      <td>Antz (1998)</td>\n",
       "      <td>5</td>\n",
       "    </tr>\n",
       "    <tr>\n",
       "      <th>2</th>\n",
       "      <td>6041</td>\n",
       "      <td>1566</td>\n",
       "      <td>Hercules (1997)</td>\n",
       "      <td>5</td>\n",
       "    </tr>\n",
       "    <tr>\n",
       "      <th>3</th>\n",
       "      <td>6041</td>\n",
       "      <td>588</td>\n",
       "      <td>Aladdin (1992)</td>\n",
       "      <td>5</td>\n",
       "    </tr>\n",
       "    <tr>\n",
       "      <th>4</th>\n",
       "      <td>6041</td>\n",
       "      <td>1907</td>\n",
       "      <td>Mulan (1998)</td>\n",
       "      <td>5</td>\n",
       "    </tr>\n",
       "  </tbody>\n",
       "</table>\n",
       "</div>"
      ],
      "text/plain": [
       "  user_id  movie_id             title  count\n",
       "0    6041         1  Toy Story (1995)      5\n",
       "1    6041      2294       Antz (1998)      5\n",
       "2    6041      1566   Hercules (1997)      5\n",
       "3    6041       588    Aladdin (1992)      5\n",
       "4    6041      1907      Mulan (1998)      5"
      ]
     },
     "execution_count": 15,
     "metadata": {},
     "output_type": "execute_result"
    }
   ],
   "source": [
    "# 좋아하는 영화의 id 리스트\n",
    "my_favoite_id = [1, 2294, 1566, 588, 1907]\n",
    "\n",
    "# id 리스트를 title 리스트로 변환해준다\n",
    "my_favorite_movie = []\n",
    "for mid in my_favoite_id:\n",
    "    my_favorite_movie.append(list(movies[movies['movie_id']==mid]['title'])[0])\n",
    "    \n",
    "# '6041'6이라는 user_id가 위 영화를 5회씩 시청했다고 가정하겠습니다.\n",
    "my_watchlist = pd.DataFrame({'user_id': ['6041']*5, 'movie_id': my_favoite_id, 'title': my_favorite_movie, 'count':[5]*5})\n",
    "\n",
    "if not data.isin({'user_id':['6041']})['user_id'].any():  # user_id에 'eunyoeng'이라는 데이터가 없다면\n",
    "    data = data.append(my_watchlist)                           # 위에 임의로 만든 my_favorite 데이터를 추가해 줍니다. \n",
    "\n",
    "data = data[['user_id', 'movie_id', 'title', 'count']]\n",
    "data.tail()"
   ]
  },
  {
   "cell_type": "markdown",
   "id": "automotive-criterion",
   "metadata": {},
   "source": [
    "# 4. CSR(Compressed Sparse Row) Matrix 만들기\n",
    "\n",
    "출처:https://lovit.github.io/nlp/machine%20learning/2018/04/09/sparse_mtarix_handling/#csr-matrix\n",
    "\n",
    "CSR Matrix는 sparse한 matrix에서 유효한 데이터의 값과 과표 정보만으로 구성되어 메모리 사용량을 최소화할 수 있는 데이터 구조이다. row 순서대로 데이터를 저장한다."
   ]
  },
  {
   "cell_type": "code",
   "execution_count": 16,
   "id": "constant-virgin",
   "metadata": {},
   "outputs": [],
   "source": [
    "# 고유한 유저, 영화를 찾기\n",
    "user_unique = data['user_id'].unique()\n",
    "movie_unique = data['title'].unique()"
   ]
  },
  {
   "cell_type": "code",
   "execution_count": 17,
   "id": "committed-apartment",
   "metadata": {},
   "outputs": [],
   "source": [
    "# 유저, 영화 indexing\n",
    "user_to_idx = {v:k for k,v in enumerate(user_unique)}\n",
    "movie_to_idx = {v:k for k,v in enumerate(movie_unique)}"
   ]
  },
  {
   "cell_type": "code",
   "execution_count": 18,
   "id": "directed-fiber",
   "metadata": {},
   "outputs": [
    {
     "name": "stdout",
     "output_type": "stream",
     "text": [
      "user_id column indexing OK!!\n",
      "title column indexing OK!!\n"
     ]
    },
    {
     "data": {
      "text/html": [
       "<div>\n",
       "<style scoped>\n",
       "    .dataframe tbody tr th:only-of-type {\n",
       "        vertical-align: middle;\n",
       "    }\n",
       "\n",
       "    .dataframe tbody tr th {\n",
       "        vertical-align: top;\n",
       "    }\n",
       "\n",
       "    .dataframe thead th {\n",
       "        text-align: right;\n",
       "    }\n",
       "</style>\n",
       "<table border=\"1\" class=\"dataframe\">\n",
       "  <thead>\n",
       "    <tr style=\"text-align: right;\">\n",
       "      <th></th>\n",
       "      <th>user_id</th>\n",
       "      <th>movie_id</th>\n",
       "      <th>title</th>\n",
       "      <th>count</th>\n",
       "      <th>new_user_id</th>\n",
       "      <th>new_movie_id</th>\n",
       "    </tr>\n",
       "  </thead>\n",
       "  <tbody>\n",
       "    <tr>\n",
       "      <th>0</th>\n",
       "      <td>1</td>\n",
       "      <td>1193</td>\n",
       "      <td>One Flew Over the Cuckoo's Nest (1975)</td>\n",
       "      <td>5</td>\n",
       "      <td>0</td>\n",
       "      <td>0</td>\n",
       "    </tr>\n",
       "    <tr>\n",
       "      <th>1</th>\n",
       "      <td>1</td>\n",
       "      <td>661</td>\n",
       "      <td>James and the Giant Peach (1996)</td>\n",
       "      <td>3</td>\n",
       "      <td>0</td>\n",
       "      <td>1</td>\n",
       "    </tr>\n",
       "    <tr>\n",
       "      <th>2</th>\n",
       "      <td>1</td>\n",
       "      <td>914</td>\n",
       "      <td>My Fair Lady (1964)</td>\n",
       "      <td>3</td>\n",
       "      <td>0</td>\n",
       "      <td>2</td>\n",
       "    </tr>\n",
       "    <tr>\n",
       "      <th>3</th>\n",
       "      <td>1</td>\n",
       "      <td>3408</td>\n",
       "      <td>Erin Brockovich (2000)</td>\n",
       "      <td>4</td>\n",
       "      <td>0</td>\n",
       "      <td>3</td>\n",
       "    </tr>\n",
       "    <tr>\n",
       "      <th>4</th>\n",
       "      <td>1</td>\n",
       "      <td>2355</td>\n",
       "      <td>Bug's Life, A (1998)</td>\n",
       "      <td>5</td>\n",
       "      <td>0</td>\n",
       "      <td>4</td>\n",
       "    </tr>\n",
       "    <tr>\n",
       "      <th>...</th>\n",
       "      <td>...</td>\n",
       "      <td>...</td>\n",
       "      <td>...</td>\n",
       "      <td>...</td>\n",
       "      <td>...</td>\n",
       "      <td>...</td>\n",
       "    </tr>\n",
       "    <tr>\n",
       "      <th>0</th>\n",
       "      <td>6041</td>\n",
       "      <td>1</td>\n",
       "      <td>Toy Story (1995)</td>\n",
       "      <td>5</td>\n",
       "      <td>6039</td>\n",
       "      <td>40</td>\n",
       "    </tr>\n",
       "    <tr>\n",
       "      <th>1</th>\n",
       "      <td>6041</td>\n",
       "      <td>2294</td>\n",
       "      <td>Antz (1998)</td>\n",
       "      <td>5</td>\n",
       "      <td>6039</td>\n",
       "      <td>30</td>\n",
       "    </tr>\n",
       "    <tr>\n",
       "      <th>2</th>\n",
       "      <td>6041</td>\n",
       "      <td>1566</td>\n",
       "      <td>Hercules (1997)</td>\n",
       "      <td>5</td>\n",
       "      <td>6039</td>\n",
       "      <td>32</td>\n",
       "    </tr>\n",
       "    <tr>\n",
       "      <th>3</th>\n",
       "      <td>6041</td>\n",
       "      <td>588</td>\n",
       "      <td>Aladdin (1992)</td>\n",
       "      <td>5</td>\n",
       "      <td>6039</td>\n",
       "      <td>33</td>\n",
       "    </tr>\n",
       "    <tr>\n",
       "      <th>4</th>\n",
       "      <td>6041</td>\n",
       "      <td>1907</td>\n",
       "      <td>Mulan (1998)</td>\n",
       "      <td>5</td>\n",
       "      <td>6039</td>\n",
       "      <td>34</td>\n",
       "    </tr>\n",
       "  </tbody>\n",
       "</table>\n",
       "<p>836483 rows × 6 columns</p>\n",
       "</div>"
      ],
      "text/plain": [
       "   user_id  movie_id                                   title  count  \\\n",
       "0        1      1193  One Flew Over the Cuckoo's Nest (1975)      5   \n",
       "1        1       661        James and the Giant Peach (1996)      3   \n",
       "2        1       914                     My Fair Lady (1964)      3   \n",
       "3        1      3408                  Erin Brockovich (2000)      4   \n",
       "4        1      2355                    Bug's Life, A (1998)      5   \n",
       "..     ...       ...                                     ...    ...   \n",
       "0     6041         1                        Toy Story (1995)      5   \n",
       "1     6041      2294                             Antz (1998)      5   \n",
       "2     6041      1566                         Hercules (1997)      5   \n",
       "3     6041       588                          Aladdin (1992)      5   \n",
       "4     6041      1907                            Mulan (1998)      5   \n",
       "\n",
       "    new_user_id  new_movie_id  \n",
       "0             0             0  \n",
       "1             0             1  \n",
       "2             0             2  \n",
       "3             0             3  \n",
       "4             0             4  \n",
       "..          ...           ...  \n",
       "0          6039            40  \n",
       "1          6039            30  \n",
       "2          6039            32  \n",
       "3          6039            33  \n",
       "4          6039            34  \n",
       "\n",
       "[836483 rows x 6 columns]"
      ]
     },
     "execution_count": 18,
     "metadata": {},
     "output_type": "execute_result"
    }
   ],
   "source": [
    "# 데이터 컬럼 내 값을 indexing된 값으로 교체\n",
    "\n",
    "# user_to_idx.get을 통해 user_id 컬럼의 모든 값을 인덱싱한 Series를 구해 봅시다. \n",
    "# 혹시 정상적으로 인덱싱되지 않은 row가 있다면 인덱스가 NaN이 될 테니 dropna()로 제거합니다. \n",
    "temp_user_data = data['user_id'].map(user_to_idx.get).dropna()\n",
    "if len(temp_user_data) == len(data):   # 모든 row가 정상적으로 인덱싱되었다면\n",
    "    print('user_id column indexing OK!!')\n",
    "    data['new_user_id'] = temp_user_data   # data['user_id']을 인덱싱된 Series로 교체해 줍니다. \n",
    "else:\n",
    "    print('user_id column indexing Fail!!')\n",
    "    \n",
    "# movie_to_idx을 통해 title 컬럼도 동일한 방식으로 인덱싱해 줍니다. \n",
    "temp_movie_data = data['title'].map(movie_to_idx.get).dropna()\n",
    "if len(temp_movie_data) == len(data):\n",
    "    print('title column indexing OK!!')\n",
    "    data['new_movie_id'] = temp_movie_data\n",
    "else:\n",
    "    print('movie_id column indexing Fail!!')\n",
    "\n",
    "data"
   ]
  },
  {
   "cell_type": "code",
   "execution_count": 19,
   "id": "virgin-handling",
   "metadata": {},
   "outputs": [
    {
     "data": {
      "text/plain": [
       "<6040x3628 sparse matrix of type '<class 'numpy.longlong'>'\n",
       "\twith 836483 stored elements in Compressed Sparse Row format>"
      ]
     },
     "execution_count": 19,
     "metadata": {},
     "output_type": "execute_result"
    }
   ],
   "source": [
    "# CSR Matrix 생성\n",
    "num_user = data['new_user_id'].nunique()\n",
    "num_movie = data['new_movie_id'].nunique()\n",
    "\n",
    "# csr_matrix((data, (row_ind, col_ind)), [shape=(M, N)])\n",
    "csr_data = csr_matrix((data['count'], (data.new_user_id, data.new_movie_id)), shape= (num_user, num_movie))\n",
    "csr_data"
   ]
  },
  {
   "cell_type": "markdown",
   "id": "literary-minneapolis",
   "metadata": {},
   "source": [
    "# 5. MF 모델 학습하기\n",
    "\n",
    "출처:https://arxiv.org/pdf/1610.05838.pdf\n",
    "\n",
    "- (m,n) 사이즈의 행렬 R을 (m,k) 사이즈의 행렬 P와 (k,n) 사이즈의 행렬 Q로 분해한다면 R은 P와 Q의 행렬곱으로 표현 가능할 수 있다.\n",
    "- 이때의 P와 Q는 Feature Matrix\n",
    "- 영화를 추천하는 모델에 대입한다면, 사용자의 특성(Feature) 벡터인 P, 영화의 특성 벡터인 Q로 볼 수 있고 두 벡터를 내적해서 얻어지는 R이 사용자의 영화 선호도를 보는 것\n",
    "- k는 m,n보다 작은 값이기 때문에 계산량 측면으로도 훨씬 유리하다.\n",
    "- MF 모델은 성능이 준수하고 Scalability가 좋아서 많이 사용된다.\n",
    "- 모델의 목표는 모든 유저와 아이템에 대해 k-dimension의 벡터를 잘 만드는 것\n",
    "- 벡터를 잘 만든다는 기준은 유저i의 벡터$U_i$와 아이템j의 벡터$I_j$를 내적했을 때 유저i가 아이템j에 대해 평가한 수치$M_ij$와 비슷한가이다.\n"
   ]
  },
  {
   "cell_type": "markdown",
   "id": "suspended-casino",
   "metadata": {},
   "source": [
    "Matrix Factorization 모델을 implicit 패키지를 사용하여 학습해 본다.\n",
    "\n",
    "- implicit 패키지는 implicit dataset을 사용하는 다양한 모델을 빠르게 학습할 수 있는 패키지\n",
    "- als(AlternatingLeastSquares) model: MF에서 두 Feature Matrix를 한번에 훈련하는 것은 잘 수렴하지 않아, 한쪽을 고정시키고 다른 쪽을 학습하는 방식을 번갈아 수행하는 방식(AlternatingLeastSquares)이 효과적이다.\n",
    "\n",
    "Implicit Datasets\n",
    "\n",
    "Implicit Data는 유저가 간접적(Implicit)으로 선호, 취향을 나타내는 데이터를 의미한다. 예시로는 검색 기록, 방문 페이지, 구매 내역 등이 있다\n",
    "\n",
    "출처: https://orill.tistory.com/entry/Explicit-vs-Implicit-Feedback-Datasets?category=1066301"
   ]
  },
  {
   "cell_type": "code",
   "execution_count": 20,
   "id": "worthy-carter",
   "metadata": {},
   "outputs": [],
   "source": [
    "# implicit 라이브러리에서 권장하고 있는 세팅\n",
    "os.environ['OPENBLAS_NUM_THREADS']='1'\n",
    "os.environ['KMP_DUPLICATE_LIB_OK']='True'\n",
    "os.environ['MKL_NUM_THREADS']='1'"
   ]
  },
  {
   "cell_type": "markdown",
   "id": "civil-region",
   "metadata": {},
   "source": [
    "**AlternatingLeastSquares** 클래스의 **__init__ 파라미터**를 살펴보면,\n",
    "\n",
    "1. factors : 유저와 아이템의 벡터를 몇 차원으로 할 것인지\n",
    "2. regularization : 과적합을 방지하기 위해 정규화 값을 얼마나 사용할 것인지\n",
    "3. use_gpu : GPU를 사용할 것인지\n",
    "4. iterations : epochs와 같은 의미입니다. 데이터를 몇 번 반복해서 학습할 것인지\n",
    "\n",
    "1,4를 늘릴수록 학습을 잘 하게 되지만 과적합의 우려가 있다."
   ]
  },
  {
   "cell_type": "code",
   "execution_count": 21,
   "id": "korean-repeat",
   "metadata": {},
   "outputs": [
    {
     "data": {
      "text/plain": [
       "<function implicit.als.AlternatingLeastSquares.__init__(self, factors=100, regularization=0.01, dtype=<class 'numpy.float32'>, use_native=True, use_cg=True, use_gpu=False, iterations=15, calculate_training_loss=False, num_threads=0, random_state=None)>"
      ]
     },
     "execution_count": 21,
     "metadata": {},
     "output_type": "execute_result"
    }
   ],
   "source": [
    "AlternatingLeastSquares.__init__"
   ]
  },
  {
   "cell_type": "markdown",
   "id": "becoming-plant",
   "metadata": {},
   "source": [
    "### 모델 설계"
   ]
  },
  {
   "cell_type": "code",
   "execution_count": 22,
   "id": "specialized-stocks",
   "metadata": {},
   "outputs": [],
   "source": [
    "# Implicit AlternatingLeastSquares 모델의 선언\n",
    "als_model = AlternatingLeastSquares(factors=200, regularization=0.01, use_gpu=False, iterations=20, dtype=np.float32)"
   ]
  },
  {
   "cell_type": "code",
   "execution_count": 23,
   "id": "fitting-oriental",
   "metadata": {},
   "outputs": [
    {
     "data": {
      "text/plain": [
       "<3628x6040 sparse matrix of type '<class 'numpy.longlong'>'\n",
       "\twith 836483 stored elements in Compressed Sparse Column format>"
      ]
     },
     "execution_count": 23,
     "metadata": {},
     "output_type": "execute_result"
    }
   ],
   "source": [
    "# als 모델은 input으로 (item X user 꼴의 matrix를 받기 때문에 Transpose해줍니다.)\n",
    "csr_data_transpose = csr_data.T\n",
    "csr_data_transpose"
   ]
  },
  {
   "cell_type": "markdown",
   "id": "plastic-suspension",
   "metadata": {},
   "source": [
    "### 모델 학습"
   ]
  },
  {
   "cell_type": "code",
   "execution_count": 24,
   "id": "female-intervention",
   "metadata": {},
   "outputs": [
    {
     "data": {
      "application/vnd.jupyter.widget-view+json": {
       "model_id": "074dc813abaa472b85ebce4aa1f34556",
       "version_major": 2,
       "version_minor": 0
      },
      "text/plain": [
       "  0%|          | 0/20 [00:00<?, ?it/s]"
      ]
     },
     "metadata": {},
     "output_type": "display_data"
    }
   ],
   "source": [
    "# 모델 훈련\n",
    "als_model.fit(csr_data_transpose)"
   ]
  },
  {
   "cell_type": "markdown",
   "id": "young-trailer",
   "metadata": {},
   "source": [
    "# 6.결과 확인\n",
    "\n",
    "## 6-1.영화 선호도 파악하기"
   ]
  },
  {
   "cell_type": "code",
   "execution_count": 25,
   "id": "fresh-draft",
   "metadata": {},
   "outputs": [],
   "source": [
    "eunyeong, mulan = user_to_idx['6041'], movie_to_idx['Mulan (1998)']\n",
    "eunyeong_vector, mulan_vector = als_model.user_factors[eunyeong], als_model.item_factors[mulan]"
   ]
  },
  {
   "cell_type": "code",
   "execution_count": 26,
   "id": "electrical-equity",
   "metadata": {},
   "outputs": [
    {
     "data": {
      "text/plain": [
       "array([-0.7581219 , -0.21160366, -0.11267363,  0.7497928 ,  0.19276886,\n",
       "       -0.15703559,  0.36461246, -0.04911835,  0.04099874, -0.06848475,\n",
       "       -0.1022459 , -0.10280726, -0.14643858,  0.176672  , -0.43268567,\n",
       "       -0.732308  ,  0.07143687, -0.57520306, -0.14715914,  0.87059915,\n",
       "        0.10311942,  0.22324225, -0.40974632, -0.27177736, -0.8569672 ,\n",
       "       -0.15160552,  0.3463324 , -0.6090388 , -0.3058559 , -0.02509486,\n",
       "       -0.24230272, -0.5597613 , -0.0210988 ,  0.63853097,  0.00178556,\n",
       "        0.3770481 ,  0.4521723 ,  1.0794871 ,  0.42486283,  0.36094278,\n",
       "        0.25846252, -0.08086078, -0.14456949,  0.1737699 , -0.24917684,\n",
       "       -0.1412118 ,  0.13498518, -0.7281413 ,  0.07883215,  0.37955436,\n",
       "       -0.00661858,  0.17439571, -0.52036464,  0.28978243,  0.09015477,\n",
       "       -0.2726363 ,  0.34692106,  0.1063203 ,  0.2528853 , -0.3436072 ,\n",
       "        0.33245116, -0.479309  ,  0.13851897, -0.07529613, -0.23029043,\n",
       "       -0.41468138, -0.70553094,  0.37395635, -0.46528026,  0.22954705,\n",
       "       -0.49187368,  0.22380602, -0.4199248 ,  0.32403177,  0.35157433,\n",
       "        0.36399856, -0.41969535,  0.5595017 ,  0.17403714, -0.14099616,\n",
       "       -0.28088394, -0.32273898,  0.6290792 ,  0.01988474,  0.11084273,\n",
       "       -0.6850743 , -0.692963  ,  0.16665894, -0.08565708,  0.09714043,\n",
       "        0.30326974,  0.22866562, -0.20601924, -0.6850469 , -0.19968279,\n",
       "        0.26592088,  0.356126  , -0.5058473 , -0.13657396, -0.02863711,\n",
       "        0.5550294 ,  0.0208593 , -0.50438005, -0.64772207, -0.21117505,\n",
       "        0.80646056, -0.40972352, -0.24656248, -0.17782018,  0.8791948 ,\n",
       "       -0.23282778, -0.27326304,  0.6246422 , -0.3970654 , -0.05927319,\n",
       "        0.25319764,  0.14025593, -0.40161368,  0.87192523,  0.17884238,\n",
       "        0.56255686, -0.08155111,  0.45154464, -0.24383947, -0.33526984,\n",
       "       -0.15891407,  0.16732079, -0.03659187,  0.7791633 ,  0.2258031 ,\n",
       "       -0.02620781, -0.7898104 ,  0.5338327 ,  0.10344208,  0.21518302,\n",
       "        0.05784412,  0.21864004, -0.4366143 ,  0.59841466,  0.21393122,\n",
       "        0.56994593, -0.1758867 , -0.03038711,  0.03771226,  0.43016905,\n",
       "        0.02660594,  0.21914627, -0.00889784,  0.01299354,  0.41563684,\n",
       "       -0.48546323,  0.2555172 ,  0.00334601,  0.18266289, -0.38884413,\n",
       "       -0.23713408,  0.9445303 ,  0.00859622,  0.06612823, -0.6039114 ,\n",
       "        0.25548255,  0.49816793,  0.07568351, -0.7318914 ,  0.30441725,\n",
       "        0.4441717 , -0.3531318 , -0.6143768 ,  0.10082224,  0.2358255 ,\n",
       "        0.21185482,  0.02238203, -0.22432928,  0.65626353,  0.19045012,\n",
       "        0.15756777,  0.19546935, -0.08913907,  0.4523123 ,  0.16250183,\n",
       "       -0.51570046,  0.14480057,  0.01054875, -0.32803416,  0.17865963,\n",
       "       -0.52266663, -0.97551954, -0.4233655 ,  0.17285638,  0.01940259,\n",
       "        0.41328752,  0.7733406 , -0.28869697,  0.5538323 , -0.06652898,\n",
       "       -0.05541091,  0.02447964, -0.31106386,  0.2791633 , -0.36092424],\n",
       "      dtype=float32)"
      ]
     },
     "execution_count": 26,
     "metadata": {},
     "output_type": "execute_result"
    }
   ],
   "source": [
    "eunyeong_vector # 나의 사용자 벡터"
   ]
  },
  {
   "cell_type": "code",
   "execution_count": 27,
   "id": "crucial-syndication",
   "metadata": {},
   "outputs": [
    {
     "data": {
      "text/plain": [
       "array([-9.27256793e-03,  2.65096570e-03,  1.39473670e-03,  8.83977208e-03,\n",
       "        2.20896080e-02, -2.78124539e-03,  9.74021666e-03,  3.89255444e-03,\n",
       "       -1.38594732e-02,  5.86947135e-04,  4.38144710e-03,  1.98550406e-04,\n",
       "       -5.27386460e-03,  1.15573239e-02,  3.84199969e-03, -1.91955511e-02,\n",
       "        6.49133790e-03, -1.62348151e-03,  7.05832290e-03,  8.71853437e-03,\n",
       "        1.40685001e-02,  5.58498269e-03,  8.33114050e-03,  2.90602818e-02,\n",
       "       -1.30553655e-02, -1.09338760e-02,  5.67841460e-04,  2.57477025e-03,\n",
       "       -9.45689157e-03,  3.41759925e-03, -1.97230950e-02, -9.65151377e-03,\n",
       "       -1.20861996e-02,  7.86706526e-03, -2.38346774e-03,  1.56805385e-02,\n",
       "        2.55907625e-02,  2.90767550e-02,  2.80813202e-02,  2.29105186e-02,\n",
       "        1.58520769e-02, -6.28298521e-03,  1.27839986e-02,  1.30857537e-02,\n",
       "        2.52184784e-03, -5.40723122e-05,  1.18701058e-02, -1.49319740e-03,\n",
       "        5.68146957e-03,  1.61740873e-02, -5.40588563e-03,  1.12100272e-02,\n",
       "        1.11949223e-03,  8.72796308e-03,  5.89961279e-03,  5.19693550e-03,\n",
       "        1.16116740e-02,  3.90734710e-03,  7.38951936e-03, -2.46723695e-03,\n",
       "        1.51383728e-02, -1.39132291e-02,  9.99573432e-03,  8.82196799e-03,\n",
       "        1.83043778e-02, -7.34694256e-03,  4.71529638e-04,  1.13299908e-02,\n",
       "       -1.12545565e-02,  8.06438364e-03, -5.65282721e-03, -2.07973667e-03,\n",
       "       -3.84219619e-03, -3.15601053e-03,  1.31792743e-02,  2.94098221e-02,\n",
       "        7.74946064e-04,  8.62007029e-03,  7.71619473e-03,  9.14804917e-03,\n",
       "        5.90330083e-03,  2.75926990e-03,  2.42837239e-02,  1.16604250e-02,\n",
       "        1.01402299e-02, -5.66664571e-03,  5.36923669e-03,  1.40201315e-04,\n",
       "        6.00899663e-03,  3.87704116e-03,  1.70076881e-02, -2.82758701e-04,\n",
       "        1.51086180e-03,  1.25437444e-02, -1.74669875e-03,  1.95009336e-02,\n",
       "        1.40802516e-02, -1.05878329e-02, -8.11020751e-03,  1.86118914e-03,\n",
       "        2.16172710e-02,  8.57535575e-04, -5.41426800e-03, -4.92945919e-03,\n",
       "       -2.08452856e-03,  2.88345683e-02, -1.03797624e-02, -8.44731741e-03,\n",
       "        1.13226306e-02,  2.13608164e-02,  2.84766662e-03,  3.86386970e-03,\n",
       "        3.80994449e-03, -1.14898579e-02,  5.57791255e-03,  5.40301949e-03,\n",
       "        9.50006861e-03,  9.50535387e-03,  2.80489679e-02,  3.66153731e-03,\n",
       "       -2.20974023e-03,  1.99910137e-03,  1.91782657e-02, -1.37659966e-03,\n",
       "       -1.42654097e-02, -1.06921950e-02,  1.59321856e-02,  4.51714918e-03,\n",
       "        2.81299427e-02,  1.84546113e-02, -1.16704507e-02, -1.76947508e-02,\n",
       "        8.70161504e-03, -5.85099775e-03,  7.24678906e-03, -7.05289189e-03,\n",
       "        2.96206847e-02, -9.59644094e-03,  2.04301886e-02,  1.37550884e-03,\n",
       "        2.61990186e-02,  2.47196440e-04, -4.87808650e-03,  7.40360841e-03,\n",
       "        6.99497899e-03,  1.09763294e-02,  1.17807901e-02, -8.45649512e-04,\n",
       "        1.58335753e-02,  1.08574443e-02, -5.97427879e-03,  1.51981590e-02,\n",
       "       -2.94474245e-04,  1.77045502e-02, -5.90185868e-03, -1.03689013e-02,\n",
       "        2.16105767e-02,  7.65678845e-03, -3.33795696e-03, -1.66750196e-02,\n",
       "        8.91119428e-03, -4.56799287e-03,  2.21624202e-03, -8.68727267e-03,\n",
       "        1.47992913e-02,  1.21779181e-02, -9.52661689e-03, -1.87187828e-02,\n",
       "        3.72292032e-03,  2.72436775e-02,  2.17666253e-02, -6.43638056e-03,\n",
       "       -2.36140724e-04,  1.51134590e-02,  2.73128971e-02,  5.95742743e-03,\n",
       "        1.37525266e-02, -7.04826554e-03,  1.56830512e-02,  1.07806958e-02,\n",
       "        5.19931410e-03,  1.27617205e-02,  6.01774640e-03,  1.23961577e-02,\n",
       "        2.15272885e-02, -2.98121269e-03, -6.56778459e-03, -5.08732535e-03,\n",
       "        1.91706978e-02, -3.45483143e-03,  1.11698126e-02,  1.11335646e-02,\n",
       "        9.10294708e-03,  7.54938042e-03,  4.37108427e-03,  2.50520511e-03,\n",
       "        1.22131603e-02,  5.07310079e-03,  1.53560154e-02,  4.00859921e-04],\n",
       "      dtype=float32)"
      ]
     },
     "execution_count": 27,
     "metadata": {},
     "output_type": "execute_result"
    }
   ],
   "source": [
    "mulan_vector # 영화 뮬란의 벡터"
   ]
  },
  {
   "cell_type": "code",
   "execution_count": 28,
   "id": "laden-citizen",
   "metadata": {},
   "outputs": [
    {
     "data": {
      "text/plain": [
       "0.5798848"
      ]
     },
     "execution_count": 28,
     "metadata": {},
     "output_type": "execute_result"
    }
   ],
   "source": [
    "# 나와 뮬란의 내적 구하기 (선호 리스트에 있는 영화)\n",
    "np.dot(eunyeong_vector, mulan_vector)"
   ]
  },
  {
   "cell_type": "code",
   "execution_count": 29,
   "id": "lyric-backup",
   "metadata": {},
   "outputs": [
    {
     "data": {
      "text/plain": [
       "0.06547823"
      ]
     },
     "execution_count": 29,
     "metadata": {},
     "output_type": "execute_result"
    }
   ],
   "source": [
    "# 모델이 나의 titanic 대한 선호도를 어떻게 예측하는지 확인(선호 리스트에 없는 영화)\n",
    "titanic = movie_to_idx['Titanic (1997)']\n",
    "titanic_vector = als_model.item_factors[titanic]\n",
    "np.dot(eunyeong_vector, titanic_vector)"
   ]
  },
  {
   "cell_type": "code",
   "execution_count": 30,
   "id": "constitutional-oriental",
   "metadata": {},
   "outputs": [
    {
     "data": {
      "text/plain": [
       "0.535389"
      ]
     },
     "execution_count": 30,
     "metadata": {},
     "output_type": "execute_result"
    }
   ],
   "source": [
    "# 모델이 나의 Bug's Life대한 선호도를 어떻게 예측하는지 확인\n",
    "bugs_life = movie_to_idx[\"Bug's Life, A (1998)\"]\n",
    "bugs_life_vector = als_model.item_factors[bugs_life]\n",
    "np.dot(eunyeong_vector, bugs_life_vector)"
   ]
  },
  {
   "cell_type": "code",
   "execution_count": 31,
   "id": "piano-poland",
   "metadata": {},
   "outputs": [
    {
     "data": {
      "text/plain": [
       "0.008467699"
      ]
     },
     "execution_count": 31,
     "metadata": {},
     "output_type": "execute_result"
    }
   ],
   "source": [
    "# 모델이 나의 Matrix 대한 선호도를 어떻게 예측하는지 확인\n",
    "matrix = movie_to_idx['Matrix, The (1999)']\n",
    "matrix_vector = als_model.item_factors[matrix]\n",
    "np.dot(eunyeong_vector, matrix_vector)"
   ]
  },
  {
   "cell_type": "markdown",
   "id": "heated-capability",
   "metadata": {},
   "source": [
    "선호하는 영화 리스트에 있는 Mulan에 대한 선호도는 0.60정도이다. Bugs' Life에 대한 예측된 선호도는 0.51정도로 Matrix 나 Titanic에 대한 예측값이 0.13, 0.002인것을 보면 높은 선호도를 보일 것이라 예측 해준다. 사용자 초기 정보 세팅할 때 선호하는 영화 5개를 모두 장르가 Animation|Children's 속하는 영화로 넣어주었기 때문에, 나는 애니메이션을 매우 좋아하는 사용자라고 학습되었고, 그 결과 애니메이션 장르인 Bug's Life는 높은 선호도를 가질 것이라 예측 해준것 같다. Drama|Romance 장르인 Titanic 보다 Action|Sci-Fi|Thriller 장르인 Matrix의 선호도가 낮을 거라 예측해준 것도 흥미롭다."
   ]
  },
  {
   "cell_type": "markdown",
   "id": "straight-prague",
   "metadata": {},
   "source": [
    "## 6-2. 내가 좋아하는 영화와 비슷한 영화 추천\n",
    "AlternatingLeastSquares 클래스에 구현되어 있는 similar_items 메서드를 통하여 비슷한 영화를 찾는다."
   ]
  },
  {
   "cell_type": "code",
   "execution_count": 32,
   "id": "micro-ordinary",
   "metadata": {},
   "outputs": [],
   "source": [
    "def get_similar_artist(movie_title: str):\n",
    "    movie_id = movie_to_idx[movie_title]\n",
    "    similar_movie = als_model.similar_items(movie_id)\n",
    "    idx_to_movie = {v:k for k,v in movie_to_idx.items()}\n",
    "    similar_movie = [idx_to_movie[i[0]] for i in similar_movie]\n",
    "    return similar_movie"
   ]
  },
  {
   "cell_type": "code",
   "execution_count": 33,
   "id": "inappropriate-sitting",
   "metadata": {},
   "outputs": [
    {
     "data": {
      "text/plain": [
       "['Mulan (1998)',\n",
       " 'Tarzan (1999)',\n",
       " 'Hunchback of Notre Dame, The (1996)',\n",
       " 'Anastasia (1997)',\n",
       " 'Antz (1998)',\n",
       " 'Hercules (1997)',\n",
       " 'Lion King, The (1994)',\n",
       " 'Rescuers Down Under, The (1990)',\n",
       " 'Balto (1995)',\n",
       " 'Beauty and the Beast (1991)']"
      ]
     },
     "execution_count": 33,
     "metadata": {},
     "output_type": "execute_result"
    }
   ],
   "source": [
    "get_similar_artist('Mulan (1998)')"
   ]
  },
  {
   "cell_type": "code",
   "execution_count": 34,
   "id": "incident-closer",
   "metadata": {},
   "outputs": [
    {
     "data": {
      "text/plain": [
       "['Titanic (1997)',\n",
       " 'Walking Dead, The (1995)',\n",
       " 'Snow Day (2000)',\n",
       " 'Paris, France (1993)',\n",
       " 'Pump Up the Volume (1990)',\n",
       " \"Mummy's Curse, The (1944)\",\n",
       " 'Gold Diggers: The Secret of Bear Mountain (1995)',\n",
       " 'Jerky Boys, The (1994)',\n",
       " 'Gay Deceivers, The (1969)',\n",
       " 'Small Wonders (1996)']"
      ]
     },
     "execution_count": 34,
     "metadata": {},
     "output_type": "execute_result"
    }
   ],
   "source": [
    "get_similar_artist('Titanic (1997)')"
   ]
  },
  {
   "cell_type": "code",
   "execution_count": 35,
   "id": "mineral-program",
   "metadata": {},
   "outputs": [
    {
     "data": {
      "text/plain": [
       "['Matrix, The (1999)',\n",
       " 'Terminator 2: Judgment Day (1991)',\n",
       " 'Total Recall (1990)',\n",
       " 'Fugitive, The (1993)',\n",
       " 'Terminator, The (1984)',\n",
       " 'Face/Off (1997)',\n",
       " 'Fifth Element, The (1997)',\n",
       " 'Surviving Picasso (1996)',\n",
       " 'Twelve Monkeys (1995)',\n",
       " 'My Favorite Season (1993)']"
      ]
     },
     "execution_count": 35,
     "metadata": {},
     "output_type": "execute_result"
    }
   ],
   "source": [
    "get_similar_artist('Matrix, The (1999)')"
   ]
  },
  {
   "cell_type": "markdown",
   "id": "architectural-basics",
   "metadata": {},
   "source": [
    "## 6-3. 내가 좋아할 만한 영화는?"
   ]
  },
  {
   "cell_type": "code",
   "execution_count": 36,
   "id": "awful-council",
   "metadata": {},
   "outputs": [
    {
     "data": {
      "text/plain": [
       "['Lion King, The (1994)',\n",
       " 'Beauty and the Beast (1991)',\n",
       " \"Bug's Life, A (1998)\",\n",
       " 'Tarzan (1999)',\n",
       " 'Toy Story 2 (1999)',\n",
       " 'Hunchback of Notre Dame, The (1996)',\n",
       " 'Iron Giant, The (1999)',\n",
       " 'Anastasia (1997)',\n",
       " 'Little Mermaid, The (1989)',\n",
       " 'James and the Giant Peach (1996)',\n",
       " 'Pocahontas (1995)',\n",
       " 'Prince of Egypt, The (1998)',\n",
       " 'Babe (1995)',\n",
       " 'Secret of NIMH, The (1982)',\n",
       " 'Nightmare Before Christmas, The (1993)',\n",
       " '101 Dalmatians (1961)',\n",
       " \"Charlotte's Web (1973)\",\n",
       " 'Aladdin and the King of Thieves (1996)',\n",
       " 'Santa Clause, The (1994)',\n",
       " 'Bambi (1942)']"
      ]
     },
     "execution_count": 36,
     "metadata": {},
     "output_type": "execute_result"
    }
   ],
   "source": [
    "user = user_to_idx['6041']\n",
    "\n",
    "# recommend에서는 user*item CSR Matrix를 받습니다.\n",
    "movie_recommended = als_model.recommend(user, csr_data, N=20, filter_already_liked_items=True)\n",
    "\n",
    "# 인덱스를 영화 제목으로 변환\n",
    "idx_to_movie = {v:k for k,v in movie_to_idx.items()}\n",
    "recommend_movies = [idx_to_movie[i[0]] for i in movie_recommended]\n",
    "recommend_movies"
   ]
  },
  {
   "cell_type": "markdown",
   "id": "freelance-theorem",
   "metadata": {},
   "source": [
    "추천된 영화가 대부분 Animation이나 Children's 장르의 영화로 성향을 잘 파악하고 추천해 주는 것을 확인 할 수 있다. Toy Story와 Aladdin을 선호하는 영화로 입력해줬는데 시리즈물인 Toy Story 2와 Aladdin and the King of Thieves가 추천되는 점은 신뢰성을 높여주는 결과라 생각된다. 추천된 영화들 중에 유일하게 장르가 다른 영화는 English Patient인데 찾아보니 전쟁영화이면서 로맨스 물이라 한다. 예고편을 보는 정도로는 다른 영화들과의 공통점을 찾을 수 없었다. 결과를 잘 해석하기 위해서 도메인 지식이 요구된다는 점을 다시 상기할 수 있었다.\n",
    "\n",
    "**모델들은 왜 Lion King을 가장 추천해 주었을까?**\n",
    "\n",
    "AlternatingLeastSquares 클래스에 구현된 explain 메소드를 사용하면 기록을 남긴 데이터 중 이 추천에 기여한 정도를 확인할 수 있다."
   ]
  },
  {
   "cell_type": "code",
   "execution_count": 37,
   "id": "arbitrary-carpet",
   "metadata": {},
   "outputs": [
    {
     "data": {
      "text/plain": [
       "[('Aladdin (1992)', 0.23051241905591108),\n",
       " ('Mulan (1998)', 0.11887404313267108),\n",
       " ('Antz (1998)', 0.10931954149838682),\n",
       " ('Hercules (1997)', 0.0761125011627358),\n",
       " ('Toy Story (1995)', 0.06912154550645906)]"
      ]
     },
     "execution_count": 37,
     "metadata": {},
     "output_type": "execute_result"
    }
   ],
   "source": [
    "lionking = movie_to_idx['Lion King, The (1994)']\n",
    "explain_lionking = als_model.explain(user, csr_data, itemid=lionking)\n",
    "\n",
    "# 추천한 콘텐츠의 점수에 기여한 다른 콘텐츠와 기여도(합이 콘텐츠의 점수가 됩니다.)\n",
    "[(idx_to_movie[i[0]], i[1]) for i in explain_lionking[1]]"
   ]
  },
  {
   "cell_type": "markdown",
   "id": "finnish-universal",
   "metadata": {},
   "source": [
    "알라딘이 같은 장르에 뮤지컬, 로맨스 등의 요소들이 함께 있어 가장 많은 영향을 끼친 것일까.?"
   ]
  },
  {
   "cell_type": "code",
   "execution_count": 40,
   "id": "familiar-analysis",
   "metadata": {},
   "outputs": [
    {
     "data": {
      "text/plain": [
       "[('Antz (1998)', 0.05235567930320061),\n",
       " ('Aladdin (1992)', 0.03654641777628149),\n",
       " ('Hercules (1997)', 0.014253830052106498),\n",
       " ('Toy Story (1995)', 0.006854591862682787),\n",
       " ('Mulan (1998)', -0.010364891899723488)]"
      ]
     },
     "execution_count": 40,
     "metadata": {},
     "output_type": "execute_result"
    }
   ],
   "source": [
    "english_patient = movie_to_idx['English Patient, The (1996)']\n",
    "explain_english_patient = als_model.explain(user, csr_data, itemid=english_patient)\n",
    "\n",
    "# 추천한 콘텐츠의 점수에 기여한 다른 콘텐츠와 기여도(합이 콘텐츠의 점수가 됩니다.)\n",
    "[(idx_to_movie[i[0]], i[1]) for i in explain_english_patient[1]]"
   ]
  },
  {
   "cell_type": "markdown",
   "id": "funny-proportion",
   "metadata": {},
   "source": [
    "**English Patient가 왜 추천되었을까?**"
   ]
  },
  {
   "cell_type": "code",
   "execution_count": 49,
   "id": "rough-quarter",
   "metadata": {},
   "outputs": [
    {
     "ename": "NameError",
     "evalue": "name 'df' is not defined",
     "output_type": "error",
     "traceback": [
      "\u001b[0;31m---------------------------------------------------------------------------\u001b[0m",
      "\u001b[0;31mNameError\u001b[0m                                 Traceback (most recent call last)",
      "\u001b[0;32m<ipython-input-49-166af47876f5>\u001b[0m in \u001b[0;36m<module>\u001b[0;34m\u001b[0m\n\u001b[1;32m      1\u001b[0m \u001b[0mep\u001b[0m \u001b[0;34m=\u001b[0m \u001b[0mdata\u001b[0m\u001b[0;34m[\u001b[0m\u001b[0mdata\u001b[0m\u001b[0;34m[\u001b[0m\u001b[0;34m'movie_id'\u001b[0m\u001b[0;34m]\u001b[0m\u001b[0;34m==\u001b[0m\u001b[0;36m1183\u001b[0m\u001b[0;34m]\u001b[0m \u001b[0;31m# english patient 영화를 본사람\u001b[0m\u001b[0;34m\u001b[0m\u001b[0;34m\u001b[0m\u001b[0m\n\u001b[0;32m----> 2\u001b[0;31m \u001b[0mep2\u001b[0m \u001b[0;34m=\u001b[0m \u001b[0mdf\u001b[0m\u001b[0;34m[\u001b[0m\u001b[0mdf\u001b[0m\u001b[0;34m[\u001b[0m\u001b[0;34m'count'\u001b[0m\u001b[0;34m]\u001b[0m\u001b[0;34m>\u001b[0m\u001b[0;36m3\u001b[0m\u001b[0;34m]\u001b[0m\u001b[0;31m# 그 중 점수 4점 이상을 준사람 =  그 영화를 좋아하는 사람\u001b[0m\u001b[0;34m\u001b[0m\u001b[0;34m\u001b[0m\u001b[0m\n\u001b[0m\u001b[1;32m      3\u001b[0m \u001b[0muser_unique_ep\u001b[0m \u001b[0;34m=\u001b[0m \u001b[0mep2\u001b[0m\u001b[0;34m[\u001b[0m\u001b[0;34m'user_id'\u001b[0m\u001b[0;34m]\u001b[0m\u001b[0;34m.\u001b[0m\u001b[0munique\u001b[0m\u001b[0;34m(\u001b[0m\u001b[0;34m)\u001b[0m \u001b[0;31m# english patient의 팬인 사람의 고유 id\u001b[0m\u001b[0;34m\u001b[0m\u001b[0;34m\u001b[0m\u001b[0m\n\u001b[1;32m      4\u001b[0m \u001b[0;34m\u001b[0m\u001b[0m\n\u001b[1;32m      5\u001b[0m \u001b[0muser_unique_ep\u001b[0m \u001b[0;34m=\u001b[0m \u001b[0mlist\u001b[0m\u001b[0;34m(\u001b[0m\u001b[0muser_unique_ep\u001b[0m\u001b[0;34m)\u001b[0m\u001b[0;34m\u001b[0m\u001b[0;34m\u001b[0m\u001b[0m\n",
      "\u001b[0;31mNameError\u001b[0m: name 'df' is not defined"
     ]
    }
   ],
   "source": [
    "ep = data[data['movie_id']==1183] # english patient 영화를 본사람\n",
    "ep2 = df[df['count']>3] # 그 중 점수 4점 이상을 준 사람 =  그 영화를 좋아하는 사람\n",
    "user_unique_ep = ep2['user_id'].unique() # english patient의 팬인 사람의 고유 id\n",
    "\n",
    "user_unique_ep = list(user_unique_ep)\n",
    "len(user_unique_ep)"
   ]
  },
  {
   "cell_type": "code",
   "execution_count": 42,
   "id": "sonic-jacksonville",
   "metadata": {},
   "outputs": [
    {
     "ename": "NameError",
     "evalue": "name 'user_unique_ep' is not defined",
     "output_type": "error",
     "traceback": [
      "\u001b[0;31m---------------------------------------------------------------------------\u001b[0m",
      "\u001b[0;31mNameError\u001b[0m                                 Traceback (most recent call last)",
      "\u001b[0;32m<ipython-input-42-557269b8db82>\u001b[0m in \u001b[0;36m<module>\u001b[0;34m\u001b[0m\n\u001b[1;32m      1\u001b[0m \u001b[0;31m# eglish patient의 팬들의 ratings 기록\u001b[0m\u001b[0;34m\u001b[0m\u001b[0;34m\u001b[0m\u001b[0;34m\u001b[0m\u001b[0m\n\u001b[0;32m----> 2\u001b[0;31m \u001b[0mdf_fans\u001b[0m \u001b[0;34m=\u001b[0m \u001b[0mdata\u001b[0m\u001b[0;34m[\u001b[0m\u001b[0mdata\u001b[0m\u001b[0;34m[\u001b[0m\u001b[0;34m'user_id'\u001b[0m\u001b[0;34m]\u001b[0m\u001b[0;34m.\u001b[0m\u001b[0misin\u001b[0m\u001b[0;34m(\u001b[0m\u001b[0muser_unique_ep\u001b[0m\u001b[0;34m)\u001b[0m\u001b[0;34m]\u001b[0m\u001b[0;34m\u001b[0m\u001b[0;34m\u001b[0m\u001b[0m\n\u001b[0m\u001b[1;32m      3\u001b[0m \u001b[0mdf_fans\u001b[0m\u001b[0;34m\u001b[0m\u001b[0;34m\u001b[0m\u001b[0m\n",
      "\u001b[0;31mNameError\u001b[0m: name 'user_unique_ep' is not defined"
     ]
    }
   ],
   "source": [
    "# eglish patient의 팬들의 ratings 기록\n",
    "df_fans = data[data['user_id'].isin(user_unique_ep)]\n",
    "df_fans"
   ]
  },
  {
   "cell_type": "code",
   "execution_count": 43,
   "id": "consecutive-dealer",
   "metadata": {},
   "outputs": [
    {
     "ename": "NameError",
     "evalue": "name 'df_fans' is not defined",
     "output_type": "error",
     "traceback": [
      "\u001b[0;31m---------------------------------------------------------------------------\u001b[0m",
      "\u001b[0;31mNameError\u001b[0m                                 Traceback (most recent call last)",
      "\u001b[0;32m<ipython-input-43-90bbec3a7650>\u001b[0m in \u001b[0;36m<module>\u001b[0;34m\u001b[0m\n\u001b[1;32m      1\u001b[0m \u001b[0;31m# 장르 정보 추가하기\u001b[0m\u001b[0;34m\u001b[0m\u001b[0;34m\u001b[0m\u001b[0;34m\u001b[0m\u001b[0m\n\u001b[0;32m----> 2\u001b[0;31m \u001b[0mdf_fans\u001b[0m \u001b[0;34m=\u001b[0m \u001b[0mdf_fans\u001b[0m\u001b[0;34m.\u001b[0m\u001b[0mjoin\u001b[0m\u001b[0;34m(\u001b[0m\u001b[0mmovies\u001b[0m\u001b[0;34m[\u001b[0m\u001b[0;34m[\u001b[0m\u001b[0;34m'movie_id'\u001b[0m\u001b[0;34m,\u001b[0m \u001b[0;34m'genre'\u001b[0m\u001b[0;34m]\u001b[0m\u001b[0;34m]\u001b[0m\u001b[0;34m.\u001b[0m\u001b[0mset_index\u001b[0m\u001b[0;34m(\u001b[0m\u001b[0;34m'movie_id'\u001b[0m\u001b[0;34m)\u001b[0m\u001b[0;34m,\u001b[0m \u001b[0mon\u001b[0m\u001b[0;34m=\u001b[0m\u001b[0;34m'movie_id'\u001b[0m\u001b[0;34m)\u001b[0m\u001b[0;34m\u001b[0m\u001b[0;34m\u001b[0m\u001b[0m\n\u001b[0m",
      "\u001b[0;31mNameError\u001b[0m: name 'df_fans' is not defined"
     ]
    }
   ],
   "source": [
    "# 장르 정보 추가하기\n",
    "df_fans = df_fans.join(movies[['movie_id', 'genre']].set_index('movie_id'), on='movie_id')"
   ]
  },
  {
   "cell_type": "code",
   "execution_count": 44,
   "id": "surprised-console",
   "metadata": {},
   "outputs": [
    {
     "ename": "NameError",
     "evalue": "name 'df_fans' is not defined",
     "output_type": "error",
     "traceback": [
      "\u001b[0;31m---------------------------------------------------------------------------\u001b[0m",
      "\u001b[0;31mNameError\u001b[0m                                 Traceback (most recent call last)",
      "\u001b[0;32m<ipython-input-44-886f73eb50e5>\u001b[0m in \u001b[0;36m<module>\u001b[0;34m\u001b[0m\n\u001b[1;32m      1\u001b[0m \u001b[0;31m# english patient의 팬들팬들이 선호하는 장르\u001b[0m\u001b[0;34m\u001b[0m\u001b[0;34m\u001b[0m\u001b[0;34m\u001b[0m\u001b[0m\n\u001b[0;32m----> 2\u001b[0;31m \u001b[0mdf_fans\u001b[0m\u001b[0;34m.\u001b[0m\u001b[0mgroupby\u001b[0m\u001b[0;34m(\u001b[0m\u001b[0;34m'genre'\u001b[0m\u001b[0;34m)\u001b[0m\u001b[0;34m[\u001b[0m\u001b[0;34m'user_id'\u001b[0m\u001b[0;34m]\u001b[0m\u001b[0;34m.\u001b[0m\u001b[0mcount\u001b[0m\u001b[0;34m(\u001b[0m\u001b[0;34m)\u001b[0m\u001b[0;34m.\u001b[0m\u001b[0msort_values\u001b[0m\u001b[0;34m(\u001b[0m\u001b[0mascending\u001b[0m\u001b[0;34m=\u001b[0m\u001b[0;32mFalse\u001b[0m\u001b[0;34m)\u001b[0m\u001b[0;34m.\u001b[0m\u001b[0mhead\u001b[0m\u001b[0;34m(\u001b[0m\u001b[0;36m30\u001b[0m\u001b[0;34m)\u001b[0m\u001b[0;34m\u001b[0m\u001b[0;34m\u001b[0m\u001b[0m\n\u001b[0m",
      "\u001b[0;31mNameError\u001b[0m: name 'df_fans' is not defined"
     ]
    }
   ],
   "source": [
    "# english patient의 팬들팬들이 선호하는 장르\n",
    "df_fans.groupby('genre')['user_id'].count().sort_values(ascending=False).head(30)"
   ]
  },
  {
   "cell_type": "code",
   "execution_count": 45,
   "id": "listed-thailand",
   "metadata": {},
   "outputs": [
    {
     "ename": "NameError",
     "evalue": "name 'df_fans' is not defined",
     "output_type": "error",
     "traceback": [
      "\u001b[0;31m---------------------------------------------------------------------------\u001b[0m",
      "\u001b[0;31mNameError\u001b[0m                                 Traceback (most recent call last)",
      "\u001b[0;32m<ipython-input-45-fd7ee5eadc39>\u001b[0m in \u001b[0;36m<module>\u001b[0;34m\u001b[0m\n\u001b[1;32m      1\u001b[0m \u001b[0;31m# english patient의 팬들팬들이 선호하는 영화\u001b[0m\u001b[0;34m\u001b[0m\u001b[0;34m\u001b[0m\u001b[0;34m\u001b[0m\u001b[0m\n\u001b[0;32m----> 2\u001b[0;31m \u001b[0mdf_fans\u001b[0m\u001b[0;34m.\u001b[0m\u001b[0mgroupby\u001b[0m\u001b[0;34m(\u001b[0m\u001b[0;34m'title'\u001b[0m\u001b[0;34m)\u001b[0m\u001b[0;34m[\u001b[0m\u001b[0;34m'user_id'\u001b[0m\u001b[0;34m]\u001b[0m\u001b[0;34m.\u001b[0m\u001b[0mcount\u001b[0m\u001b[0;34m(\u001b[0m\u001b[0;34m)\u001b[0m\u001b[0;34m.\u001b[0m\u001b[0msort_values\u001b[0m\u001b[0;34m(\u001b[0m\u001b[0mascending\u001b[0m\u001b[0;34m=\u001b[0m\u001b[0;32mFalse\u001b[0m\u001b[0;34m)\u001b[0m\u001b[0;34m.\u001b[0m\u001b[0mhead\u001b[0m\u001b[0;34m(\u001b[0m\u001b[0;36m30\u001b[0m\u001b[0;34m)\u001b[0m\u001b[0;34m\u001b[0m\u001b[0;34m\u001b[0m\u001b[0m\n\u001b[0m",
      "\u001b[0;31mNameError\u001b[0m: name 'df_fans' is not defined"
     ]
    }
   ],
   "source": [
    "# english patient의 팬들팬들이 선호하는 영화\n",
    "df_fans.groupby('title')['user_id'].count().sort_values(ascending=False).head(30)"
   ]
  },
  {
   "cell_type": "markdown",
   "id": "sound-desire",
   "metadata": {},
   "source": [
    "# 7. 추천시스템 평가"
   ]
  },
  {
   "cell_type": "code",
   "execution_count": 46,
   "id": "historical-captain",
   "metadata": {},
   "outputs": [
    {
     "data": {
      "text/html": [
       "<div>\n",
       "<style scoped>\n",
       "    .dataframe tbody tr th:only-of-type {\n",
       "        vertical-align: middle;\n",
       "    }\n",
       "\n",
       "    .dataframe tbody tr th {\n",
       "        vertical-align: top;\n",
       "    }\n",
       "\n",
       "    .dataframe thead th {\n",
       "        text-align: right;\n",
       "    }\n",
       "</style>\n",
       "<table border=\"1\" class=\"dataframe\">\n",
       "  <thead>\n",
       "    <tr style=\"text-align: right;\">\n",
       "      <th></th>\n",
       "      <th>precision</th>\n",
       "      <th>recall</th>\n",
       "    </tr>\n",
       "  </thead>\n",
       "  <tbody>\n",
       "    <tr>\n",
       "      <th>0</th>\n",
       "      <td>1.000000</td>\n",
       "      <td>0.066667</td>\n",
       "    </tr>\n",
       "    <tr>\n",
       "      <th>1</th>\n",
       "      <td>1.000000</td>\n",
       "      <td>0.133333</td>\n",
       "    </tr>\n",
       "    <tr>\n",
       "      <th>2</th>\n",
       "      <td>1.000000</td>\n",
       "      <td>0.200000</td>\n",
       "    </tr>\n",
       "    <tr>\n",
       "      <th>3</th>\n",
       "      <td>1.000000</td>\n",
       "      <td>0.266667</td>\n",
       "    </tr>\n",
       "    <tr>\n",
       "      <th>4</th>\n",
       "      <td>1.000000</td>\n",
       "      <td>0.333333</td>\n",
       "    </tr>\n",
       "    <tr>\n",
       "      <th>5</th>\n",
       "      <td>1.000000</td>\n",
       "      <td>0.400000</td>\n",
       "    </tr>\n",
       "    <tr>\n",
       "      <th>6</th>\n",
       "      <td>0.857143</td>\n",
       "      <td>0.400000</td>\n",
       "    </tr>\n",
       "    <tr>\n",
       "      <th>7</th>\n",
       "      <td>0.875000</td>\n",
       "      <td>0.466667</td>\n",
       "    </tr>\n",
       "    <tr>\n",
       "      <th>8</th>\n",
       "      <td>0.777778</td>\n",
       "      <td>0.466667</td>\n",
       "    </tr>\n",
       "    <tr>\n",
       "      <th>9</th>\n",
       "      <td>0.800000</td>\n",
       "      <td>0.533333</td>\n",
       "    </tr>\n",
       "    <tr>\n",
       "      <th>10</th>\n",
       "      <td>0.727273</td>\n",
       "      <td>0.533333</td>\n",
       "    </tr>\n",
       "    <tr>\n",
       "      <th>11</th>\n",
       "      <td>0.750000</td>\n",
       "      <td>0.600000</td>\n",
       "    </tr>\n",
       "    <tr>\n",
       "      <th>12</th>\n",
       "      <td>0.769231</td>\n",
       "      <td>0.666667</td>\n",
       "    </tr>\n",
       "    <tr>\n",
       "      <th>13</th>\n",
       "      <td>0.714286</td>\n",
       "      <td>0.666667</td>\n",
       "    </tr>\n",
       "    <tr>\n",
       "      <th>14</th>\n",
       "      <td>0.733333</td>\n",
       "      <td>0.733333</td>\n",
       "    </tr>\n",
       "    <tr>\n",
       "      <th>15</th>\n",
       "      <td>0.750000</td>\n",
       "      <td>0.800000</td>\n",
       "    </tr>\n",
       "    <tr>\n",
       "      <th>16</th>\n",
       "      <td>0.705882</td>\n",
       "      <td>0.800000</td>\n",
       "    </tr>\n",
       "    <tr>\n",
       "      <th>17</th>\n",
       "      <td>0.722222</td>\n",
       "      <td>0.866667</td>\n",
       "    </tr>\n",
       "    <tr>\n",
       "      <th>18</th>\n",
       "      <td>0.736842</td>\n",
       "      <td>0.933333</td>\n",
       "    </tr>\n",
       "    <tr>\n",
       "      <th>19</th>\n",
       "      <td>0.750000</td>\n",
       "      <td>1.000000</td>\n",
       "    </tr>\n",
       "  </tbody>\n",
       "</table>\n",
       "</div>"
      ],
      "text/plain": [
       "    precision    recall\n",
       "0    1.000000  0.066667\n",
       "1    1.000000  0.133333\n",
       "2    1.000000  0.200000\n",
       "3    1.000000  0.266667\n",
       "4    1.000000  0.333333\n",
       "5    1.000000  0.400000\n",
       "6    0.857143  0.400000\n",
       "7    0.875000  0.466667\n",
       "8    0.777778  0.466667\n",
       "9    0.800000  0.533333\n",
       "10   0.727273  0.533333\n",
       "11   0.750000  0.600000\n",
       "12   0.769231  0.666667\n",
       "13   0.714286  0.666667\n",
       "14   0.733333  0.733333\n",
       "15   0.750000  0.800000\n",
       "16   0.705882  0.800000\n",
       "17   0.722222  0.866667\n",
       "18   0.736842  0.933333\n",
       "19   0.750000  1.000000"
      ]
     },
     "execution_count": 46,
     "metadata": {},
     "output_type": "execute_result"
    }
   ],
   "source": [
    "recoms = [1,1,1,1,1,1,0,1,0,1,0,1,1,0,1,1,0,1,1,1]  # N = 20\n",
    "NUM_ACTUAL_ADDED_ACCT = 15 \n",
    "precs = []\n",
    "recalls = []\n",
    "\n",
    "for indx, rec in enumerate(recoms):\n",
    "    precs.append(sum(recoms[:indx+1])/(indx+1))\n",
    "    recalls.append(sum(recoms[:indx+1])/NUM_ACTUAL_ADDED_ACCT)\n",
    "\n",
    "pd.DataFrame({'precision':precs, 'recall':recalls})"
   ]
  },
  {
   "cell_type": "code",
   "execution_count": 47,
   "id": "demographic-updating",
   "metadata": {},
   "outputs": [
    {
     "data": {
      "text/plain": [
       "Text(0.5, 1.0, 'P(i) vs. r(i) for Increasing $i$ for AP@20')"
      ]
     },
     "execution_count": 47,
     "metadata": {},
     "output_type": "execute_result"
    },
    {
     "data": {
      "image/png": "[encoded data removed]",
      "text/plain": [
       "<Figure size 432x288 with 1 Axes>"
      ]
     },
     "metadata": {
      "needs_background": "light"
     },
     "output_type": "display_data"
    }
   ],
   "source": [
    "import matplotlib.pyplot as plt\n",
    "%matplotlib inline\n",
    "fig, ax = plt.subplots()\n",
    "ax.plot(recalls, precs, markersize=10, marker=\"o\")\n",
    "ax.set_xlabel(\"Recall\")\n",
    "ax.set_ylabel(\"Precision\")\n",
    "ax.set_title(\"P(i) vs. r(i) for Increasing $i$ for AP@20\")"
   ]
  },
  {
   "cell_type": "markdown",
   "id": "stopped-stream",
   "metadata": {},
   "source": [
    "추천된 6번째 영화까지는 모두 사용자의 액션을 이끌어 냈기 때문에 Precision이 1.0이지만 그 후부터 사용자가 관심갖지 않는 영화가 존재하기 때문에 점점 수치가 낮아지는 것을 볼 수 있다. recall은 사용자가 관심있어하는 아이템 중에 우리가 추천한 아이템의 비율이기 때문에 k가 증가할 수록 함께 수치가 증가하는 것을 확인할 수 있다."
   ]
  },
  {
   "cell_type": "markdown",
   "id": "proved-raising",
   "metadata": {},
   "source": [
    "# 프로젝트 정리\n",
    "\n",
    "- 데이터 전처리:ratings의 사용자 정보와 movies의 영화 정보가 함께 필요한 경우가 많아 두 데이터 프레임을 합쳐 data라는 데이터 프레임을 만들어 사용하였다.\n",
    "- 초기 정보 세팅: 추천시스템이 추천을 잘 해주는 지 좀더 잘 판단할 수 있도록 초기 정보 세팅을 할 때 좋아하는 영화 장르들을 animation|musical|childeren's 장르로 좁혀 전달하였다.\n",
    "- 추천 결과를 보면 위 정보를 가지고 내가 애니메이션 장르를 선호한다는 것을 잘 파악하고 있다는 것을 알 수 있었다.\n",
    "- csr matrix: user_id와 movie_id가 숫자로 되어 있어 작업이 필요하지 않을 거라 생각했는데 csr matrix를 만들며 자꾸 오류가 생겨 확인해보니 인덱싱을 새로 해줘야 했다.\n",
    "- 영화 선호도: 추천 시스템의 결과를 보면 선호리스트에 있는 영화인 Mulan의 선호도는 0.60 정도로 가장 높았고, 선호 리스트에 없는 영화들 중 선호하는 애니메이션 장르인 Bug's Life의 점수가 약 0.51로 높은 편이었다. Drama|Romance 장르인 Titanic 이 0.19 의 선호도를 얻었고 Action|Sci-Fi|Thriller 장르인 Matrix의 선호도는 0.002로 가장 낮았다. 실제로 애니메이션 장르를 선호하는 나는 로맨스, 드라마 장르를 액션, 스릴러보다 선호하는 편이기 때문에 추천 결과가 굉장히 흥미로웠다.\n",
    "- 비슷한 영화 추천: 기준이 되는 영화와 장르가 같은 영화들이 주로 추천되었다.\n",
    "- 좋아할 만한 영화 추천: 추천 결과가 대부분 Animation이나 Children's 장르의 영화였다. 입력한 정보를 바탕으로 성향을 잘 파악하고 추천해 주는 것을 확인 할 수 있었다. 대부분의 영화들이 실제로 재밌게 봤던 영화 들이어서 결과가 잘 나왔다고 판단하였다. 특이했던 것은 English Patient라는 영화인데, 유일하게 장르가 전쟁물인 영화였다.\n",
    "- English Patient선호하는 사용자들(평점 4점 이상)이 선호하는 장르는 드라마,코메디, 로맨스, 전쟁물 등이 있고 애니메이션은 딱히 선호하는 장르가 아니다..\n",
    "- 또 English Patient선호하는 사용자들이 많이 본 영화도 English Patient, American Beauty, Schindler's List, Shakespeare in Love 순으로 애니메이션과는 거리가 있어 보인다..추천된 이유를 쉽게 파악 할 수는 없었다..\n",
    "- 추천된 20개의 영화 중 15개의 영화가 재밌게 봤던 영화이거나 재밌게 볼 수 있을 것 같은 영화였다.\n",
    "- Mean Average Precision(MAP): 수치적으로 얼마나 잘 추천되었는지 알아보고자 MAP를 이용하여 평가하여 보았다."
   ]
  },
  {
   "cell_type": "code",
   "execution_count": null,
   "id": "sporting-worship",
   "metadata": {},
   "outputs": [],
   "source": []
  }
 ],
 "metadata": {
  "kernelspec": {
   "display_name": "Python 3",
   "language": "python",
   "name": "python3"
  },
  "language_info": {
   "codemirror_mode": {
    "name": "ipython",
    "version": 3
   },
   "file_extension": ".py",
   "mimetype": "text/x-python",
   "name": "python",
   "nbconvert_exporter": "python",
   "pygments_lexer": "ipython3",
   "version": "3.7.9"
  }
 },
 "nbformat": 4,
 "nbformat_minor": 5
}
